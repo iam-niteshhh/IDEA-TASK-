{
 "cells": [
  {
   "cell_type": "code",
   "execution_count": 1,
   "id": "2ec93602",
   "metadata": {
    "scrolled": true
   },
   "outputs": [
    {
     "name": "stdout",
     "output_type": "stream",
     "text": [
      "Downloading stroke-prediction-dataset.zip to E:\\Jupyter Notebooks\\Kaggle\\Machine Learning\\IDEA Task\n",
      "\n"
     ]
    },
    {
     "name": "stderr",
     "output_type": "stream",
     "text": [
      "\n",
      "  0%|          | 0.00/67.4k [00:00<?, ?B/s]\n",
      "100%|##########| 67.4k/67.4k [00:00<00:00, 69.3MB/s]\n"
     ]
    }
   ],
   "source": [
    "!kaggle datasets download -d fedesoriano/stroke-prediction-dataset"
   ]
  },
  {
   "cell_type": "code",
   "execution_count": 2,
   "id": "d1557ad6",
   "metadata": {},
   "outputs": [],
   "source": [
    "import warnings\n",
    "warnings.filterwarnings(\"ignore\", category=UserWarning)\n",
    "warnings.filterwarnings(\"ignore\", category=RuntimeWarning)"
   ]
  },
  {
   "cell_type": "code",
   "execution_count": 3,
   "id": "fdae8e94",
   "metadata": {},
   "outputs": [],
   "source": [
    "import zipfile\n",
    "import pandas as pd \n",
    "import numpy as np\n",
    "import matplotlib.pyplot as plt\n",
    "import seaborn as sns\n",
    "from sklearn.preprocessing import MinMaxScaler,OneHotEncoder,OrdinalEncoder,LabelEncoder\n",
    "from sklearn.compose import ColumnTransformer\n",
    "from sklearn.model_selection import train_test_split\n",
    "from sklearn.linear_model import LogisticRegression\n",
    "from sklearn.model_selection import GridSearchCV\n",
    "from sklearn.neighbors import KNeighborsClassifier\n",
    "from sklearn.tree import DecisionTreeClassifier\n",
    "from sklearn.svm import SVC\n",
    "from sklearn.ensemble import ExtraTreesClassifier,VotingClassifier\n",
    "from sklearn.pipeline import Pipeline\n",
    "from sklearn.metrics import f1_score,confusion_matrix,plot_confusion_matrix,classification_report,accuracy_score,recall_score,precision_score\n",
    "from imblearn.over_sampling import RandomOverSampler"
   ]
  },
  {
   "cell_type": "markdown",
   "id": "9a39de3f",
   "metadata": {},
   "source": [
    "### Unzip data"
   ]
  },
  {
   "cell_type": "code",
   "execution_count": 4,
   "id": "63bdfcd2",
   "metadata": {},
   "outputs": [],
   "source": [
    "with zipfile.ZipFile('stroke-prediction-dataset.zip') as file:\n",
    "    file.extractall()"
   ]
  },
  {
   "cell_type": "markdown",
   "id": "6686fe93",
   "metadata": {},
   "source": [
    "## Data information\n"
   ]
  },
  {
   "cell_type": "code",
   "execution_count": 5,
   "id": "ca078e31",
   "metadata": {},
   "outputs": [],
   "source": [
    "stroke_data=pd.read_csv('healthcare-dataset-stroke-data.csv')"
   ]
  },
  {
   "cell_type": "code",
   "execution_count": 6,
   "id": "0e6cf8a1",
   "metadata": {},
   "outputs": [
    {
     "data": {
      "text/html": [
       "<div>\n",
       "<style scoped>\n",
       "    .dataframe tbody tr th:only-of-type {\n",
       "        vertical-align: middle;\n",
       "    }\n",
       "\n",
       "    .dataframe tbody tr th {\n",
       "        vertical-align: top;\n",
       "    }\n",
       "\n",
       "    .dataframe thead th {\n",
       "        text-align: right;\n",
       "    }\n",
       "</style>\n",
       "<table border=\"1\" class=\"dataframe\">\n",
       "  <thead>\n",
       "    <tr style=\"text-align: right;\">\n",
       "      <th></th>\n",
       "      <th>id</th>\n",
       "      <th>gender</th>\n",
       "      <th>age</th>\n",
       "      <th>hypertension</th>\n",
       "      <th>heart_disease</th>\n",
       "      <th>ever_married</th>\n",
       "      <th>work_type</th>\n",
       "      <th>Residence_type</th>\n",
       "      <th>avg_glucose_level</th>\n",
       "      <th>bmi</th>\n",
       "      <th>smoking_status</th>\n",
       "      <th>stroke</th>\n",
       "    </tr>\n",
       "  </thead>\n",
       "  <tbody>\n",
       "    <tr>\n",
       "      <th>0</th>\n",
       "      <td>9046</td>\n",
       "      <td>Male</td>\n",
       "      <td>67.0</td>\n",
       "      <td>0</td>\n",
       "      <td>1</td>\n",
       "      <td>Yes</td>\n",
       "      <td>Private</td>\n",
       "      <td>Urban</td>\n",
       "      <td>228.69</td>\n",
       "      <td>36.6</td>\n",
       "      <td>formerly smoked</td>\n",
       "      <td>1</td>\n",
       "    </tr>\n",
       "    <tr>\n",
       "      <th>1</th>\n",
       "      <td>51676</td>\n",
       "      <td>Female</td>\n",
       "      <td>61.0</td>\n",
       "      <td>0</td>\n",
       "      <td>0</td>\n",
       "      <td>Yes</td>\n",
       "      <td>Self-employed</td>\n",
       "      <td>Rural</td>\n",
       "      <td>202.21</td>\n",
       "      <td>NaN</td>\n",
       "      <td>never smoked</td>\n",
       "      <td>1</td>\n",
       "    </tr>\n",
       "    <tr>\n",
       "      <th>2</th>\n",
       "      <td>31112</td>\n",
       "      <td>Male</td>\n",
       "      <td>80.0</td>\n",
       "      <td>0</td>\n",
       "      <td>1</td>\n",
       "      <td>Yes</td>\n",
       "      <td>Private</td>\n",
       "      <td>Rural</td>\n",
       "      <td>105.92</td>\n",
       "      <td>32.5</td>\n",
       "      <td>never smoked</td>\n",
       "      <td>1</td>\n",
       "    </tr>\n",
       "    <tr>\n",
       "      <th>3</th>\n",
       "      <td>60182</td>\n",
       "      <td>Female</td>\n",
       "      <td>49.0</td>\n",
       "      <td>0</td>\n",
       "      <td>0</td>\n",
       "      <td>Yes</td>\n",
       "      <td>Private</td>\n",
       "      <td>Urban</td>\n",
       "      <td>171.23</td>\n",
       "      <td>34.4</td>\n",
       "      <td>smokes</td>\n",
       "      <td>1</td>\n",
       "    </tr>\n",
       "    <tr>\n",
       "      <th>4</th>\n",
       "      <td>1665</td>\n",
       "      <td>Female</td>\n",
       "      <td>79.0</td>\n",
       "      <td>1</td>\n",
       "      <td>0</td>\n",
       "      <td>Yes</td>\n",
       "      <td>Self-employed</td>\n",
       "      <td>Rural</td>\n",
       "      <td>174.12</td>\n",
       "      <td>24.0</td>\n",
       "      <td>never smoked</td>\n",
       "      <td>1</td>\n",
       "    </tr>\n",
       "  </tbody>\n",
       "</table>\n",
       "</div>"
      ],
      "text/plain": [
       "      id  gender   age  hypertension  heart_disease ever_married  \\\n",
       "0   9046    Male  67.0             0              1          Yes   \n",
       "1  51676  Female  61.0             0              0          Yes   \n",
       "2  31112    Male  80.0             0              1          Yes   \n",
       "3  60182  Female  49.0             0              0          Yes   \n",
       "4   1665  Female  79.0             1              0          Yes   \n",
       "\n",
       "       work_type Residence_type  avg_glucose_level   bmi   smoking_status  \\\n",
       "0        Private          Urban             228.69  36.6  formerly smoked   \n",
       "1  Self-employed          Rural             202.21   NaN     never smoked   \n",
       "2        Private          Rural             105.92  32.5     never smoked   \n",
       "3        Private          Urban             171.23  34.4           smokes   \n",
       "4  Self-employed          Rural             174.12  24.0     never smoked   \n",
       "\n",
       "   stroke  \n",
       "0       1  \n",
       "1       1  \n",
       "2       1  \n",
       "3       1  \n",
       "4       1  "
      ]
     },
     "execution_count": 6,
     "metadata": {},
     "output_type": "execute_result"
    }
   ],
   "source": [
    "stroke_data.head()\n"
   ]
  },
  {
   "cell_type": "code",
   "execution_count": 7,
   "id": "46e62559",
   "metadata": {},
   "outputs": [
    {
     "name": "stdout",
     "output_type": "stream",
     "text": [
      "<class 'pandas.core.frame.DataFrame'>\n",
      "RangeIndex: 5110 entries, 0 to 5109\n",
      "Data columns (total 12 columns):\n",
      " #   Column             Non-Null Count  Dtype  \n",
      "---  ------             --------------  -----  \n",
      " 0   id                 5110 non-null   int64  \n",
      " 1   gender             5110 non-null   object \n",
      " 2   age                5110 non-null   float64\n",
      " 3   hypertension       5110 non-null   int64  \n",
      " 4   heart_disease      5110 non-null   int64  \n",
      " 5   ever_married       5110 non-null   object \n",
      " 6   work_type          5110 non-null   object \n",
      " 7   Residence_type     5110 non-null   object \n",
      " 8   avg_glucose_level  5110 non-null   float64\n",
      " 9   bmi                4909 non-null   float64\n",
      " 10  smoking_status     5110 non-null   object \n",
      " 11  stroke             5110 non-null   int64  \n",
      "dtypes: float64(3), int64(4), object(5)\n",
      "memory usage: 479.2+ KB\n"
     ]
    }
   ],
   "source": [
    "stroke_data.info()"
   ]
  },
  {
   "cell_type": "code",
   "execution_count": 8,
   "id": "067304a9",
   "metadata": {},
   "outputs": [],
   "source": [
    "stroke_data_replaced=stroke_data.copy()"
   ]
  },
  {
   "cell_type": "code",
   "execution_count": 9,
   "id": "7bb3d16f",
   "metadata": {},
   "outputs": [
    {
     "name": "stderr",
     "output_type": "stream",
     "text": [
      "C:\\Users\\Nitesh\\AppData\\Local\\Temp/ipykernel_7220/59667440.py:1: FutureWarning: Dropping of nuisance columns in DataFrame reductions (with 'numeric_only=None') is deprecated; in a future version this will raise TypeError.  Select only valid columns before calling the reduction.\n",
      "  stroke_data_replaced.fillna(value=stroke_data_replaced.mean(axis=0),\n"
     ]
    }
   ],
   "source": [
    "stroke_data_replaced.fillna(value=stroke_data_replaced.mean(axis=0),\n",
    "                            axis=0,\n",
    "                            inplace=True)"
   ]
  },
  {
   "cell_type": "code",
   "execution_count": 10,
   "id": "8a3b4bbe",
   "metadata": {},
   "outputs": [],
   "source": [
    "for col in ['hypertension','heart_disease','stroke']:\n",
    "    stroke_data_replaced[col]=stroke_data_replaced[col].replace([0,1],['No','Yes'])"
   ]
  },
  {
   "cell_type": "code",
   "execution_count": 11,
   "id": "07a77e58",
   "metadata": {},
   "outputs": [
    {
     "data": {
      "text/html": [
       "<div>\n",
       "<style scoped>\n",
       "    .dataframe tbody tr th:only-of-type {\n",
       "        vertical-align: middle;\n",
       "    }\n",
       "\n",
       "    .dataframe tbody tr th {\n",
       "        vertical-align: top;\n",
       "    }\n",
       "\n",
       "    .dataframe thead th {\n",
       "        text-align: right;\n",
       "    }\n",
       "</style>\n",
       "<table border=\"1\" class=\"dataframe\">\n",
       "  <thead>\n",
       "    <tr style=\"text-align: right;\">\n",
       "      <th></th>\n",
       "      <th>id</th>\n",
       "      <th>gender</th>\n",
       "      <th>age</th>\n",
       "      <th>hypertension</th>\n",
       "      <th>heart_disease</th>\n",
       "      <th>ever_married</th>\n",
       "      <th>work_type</th>\n",
       "      <th>Residence_type</th>\n",
       "      <th>avg_glucose_level</th>\n",
       "      <th>bmi</th>\n",
       "      <th>smoking_status</th>\n",
       "      <th>stroke</th>\n",
       "    </tr>\n",
       "  </thead>\n",
       "  <tbody>\n",
       "    <tr>\n",
       "      <th>0</th>\n",
       "      <td>9046</td>\n",
       "      <td>Male</td>\n",
       "      <td>67.0</td>\n",
       "      <td>No</td>\n",
       "      <td>Yes</td>\n",
       "      <td>Yes</td>\n",
       "      <td>Private</td>\n",
       "      <td>Urban</td>\n",
       "      <td>228.69</td>\n",
       "      <td>36.600000</td>\n",
       "      <td>formerly smoked</td>\n",
       "      <td>Yes</td>\n",
       "    </tr>\n",
       "    <tr>\n",
       "      <th>1</th>\n",
       "      <td>51676</td>\n",
       "      <td>Female</td>\n",
       "      <td>61.0</td>\n",
       "      <td>No</td>\n",
       "      <td>No</td>\n",
       "      <td>Yes</td>\n",
       "      <td>Self-employed</td>\n",
       "      <td>Rural</td>\n",
       "      <td>202.21</td>\n",
       "      <td>28.893237</td>\n",
       "      <td>never smoked</td>\n",
       "      <td>Yes</td>\n",
       "    </tr>\n",
       "    <tr>\n",
       "      <th>2</th>\n",
       "      <td>31112</td>\n",
       "      <td>Male</td>\n",
       "      <td>80.0</td>\n",
       "      <td>No</td>\n",
       "      <td>Yes</td>\n",
       "      <td>Yes</td>\n",
       "      <td>Private</td>\n",
       "      <td>Rural</td>\n",
       "      <td>105.92</td>\n",
       "      <td>32.500000</td>\n",
       "      <td>never smoked</td>\n",
       "      <td>Yes</td>\n",
       "    </tr>\n",
       "    <tr>\n",
       "      <th>3</th>\n",
       "      <td>60182</td>\n",
       "      <td>Female</td>\n",
       "      <td>49.0</td>\n",
       "      <td>No</td>\n",
       "      <td>No</td>\n",
       "      <td>Yes</td>\n",
       "      <td>Private</td>\n",
       "      <td>Urban</td>\n",
       "      <td>171.23</td>\n",
       "      <td>34.400000</td>\n",
       "      <td>smokes</td>\n",
       "      <td>Yes</td>\n",
       "    </tr>\n",
       "    <tr>\n",
       "      <th>4</th>\n",
       "      <td>1665</td>\n",
       "      <td>Female</td>\n",
       "      <td>79.0</td>\n",
       "      <td>Yes</td>\n",
       "      <td>No</td>\n",
       "      <td>Yes</td>\n",
       "      <td>Self-employed</td>\n",
       "      <td>Rural</td>\n",
       "      <td>174.12</td>\n",
       "      <td>24.000000</td>\n",
       "      <td>never smoked</td>\n",
       "      <td>Yes</td>\n",
       "    </tr>\n",
       "  </tbody>\n",
       "</table>\n",
       "</div>"
      ],
      "text/plain": [
       "      id  gender   age hypertension heart_disease ever_married      work_type  \\\n",
       "0   9046    Male  67.0           No           Yes          Yes        Private   \n",
       "1  51676  Female  61.0           No            No          Yes  Self-employed   \n",
       "2  31112    Male  80.0           No           Yes          Yes        Private   \n",
       "3  60182  Female  49.0           No            No          Yes        Private   \n",
       "4   1665  Female  79.0          Yes            No          Yes  Self-employed   \n",
       "\n",
       "  Residence_type  avg_glucose_level        bmi   smoking_status stroke  \n",
       "0          Urban             228.69  36.600000  formerly smoked    Yes  \n",
       "1          Rural             202.21  28.893237     never smoked    Yes  \n",
       "2          Rural             105.92  32.500000     never smoked    Yes  \n",
       "3          Urban             171.23  34.400000           smokes    Yes  \n",
       "4          Rural             174.12  24.000000     never smoked    Yes  "
      ]
     },
     "execution_count": 11,
     "metadata": {},
     "output_type": "execute_result"
    }
   ],
   "source": [
    "stroke_data_replaced.head()"
   ]
  },
  {
   "cell_type": "code",
   "execution_count": 12,
   "id": "f477af25",
   "metadata": {},
   "outputs": [
    {
     "data": {
      "text/html": [
       "<div>\n",
       "<style scoped>\n",
       "    .dataframe tbody tr th:only-of-type {\n",
       "        vertical-align: middle;\n",
       "    }\n",
       "\n",
       "    .dataframe tbody tr th {\n",
       "        vertical-align: top;\n",
       "    }\n",
       "\n",
       "    .dataframe thead th {\n",
       "        text-align: right;\n",
       "    }\n",
       "</style>\n",
       "<table border=\"1\" class=\"dataframe\">\n",
       "  <thead>\n",
       "    <tr style=\"text-align: right;\">\n",
       "      <th></th>\n",
       "      <th>id</th>\n",
       "      <th>age</th>\n",
       "      <th>avg_glucose_level</th>\n",
       "      <th>bmi</th>\n",
       "    </tr>\n",
       "  </thead>\n",
       "  <tbody>\n",
       "    <tr>\n",
       "      <th>count</th>\n",
       "      <td>5110.000000</td>\n",
       "      <td>5110.000000</td>\n",
       "      <td>5110.000000</td>\n",
       "      <td>5110.000000</td>\n",
       "    </tr>\n",
       "    <tr>\n",
       "      <th>mean</th>\n",
       "      <td>36517.829354</td>\n",
       "      <td>43.226614</td>\n",
       "      <td>106.147677</td>\n",
       "      <td>28.893237</td>\n",
       "    </tr>\n",
       "    <tr>\n",
       "      <th>std</th>\n",
       "      <td>21161.721625</td>\n",
       "      <td>22.612647</td>\n",
       "      <td>45.283560</td>\n",
       "      <td>7.698018</td>\n",
       "    </tr>\n",
       "    <tr>\n",
       "      <th>min</th>\n",
       "      <td>67.000000</td>\n",
       "      <td>0.080000</td>\n",
       "      <td>55.120000</td>\n",
       "      <td>10.300000</td>\n",
       "    </tr>\n",
       "    <tr>\n",
       "      <th>25%</th>\n",
       "      <td>17741.250000</td>\n",
       "      <td>25.000000</td>\n",
       "      <td>77.245000</td>\n",
       "      <td>23.800000</td>\n",
       "    </tr>\n",
       "    <tr>\n",
       "      <th>50%</th>\n",
       "      <td>36932.000000</td>\n",
       "      <td>45.000000</td>\n",
       "      <td>91.885000</td>\n",
       "      <td>28.400000</td>\n",
       "    </tr>\n",
       "    <tr>\n",
       "      <th>75%</th>\n",
       "      <td>54682.000000</td>\n",
       "      <td>61.000000</td>\n",
       "      <td>114.090000</td>\n",
       "      <td>32.800000</td>\n",
       "    </tr>\n",
       "    <tr>\n",
       "      <th>max</th>\n",
       "      <td>72940.000000</td>\n",
       "      <td>82.000000</td>\n",
       "      <td>271.740000</td>\n",
       "      <td>97.600000</td>\n",
       "    </tr>\n",
       "  </tbody>\n",
       "</table>\n",
       "</div>"
      ],
      "text/plain": [
       "                 id          age  avg_glucose_level          bmi\n",
       "count   5110.000000  5110.000000        5110.000000  5110.000000\n",
       "mean   36517.829354    43.226614         106.147677    28.893237\n",
       "std    21161.721625    22.612647          45.283560     7.698018\n",
       "min       67.000000     0.080000          55.120000    10.300000\n",
       "25%    17741.250000    25.000000          77.245000    23.800000\n",
       "50%    36932.000000    45.000000          91.885000    28.400000\n",
       "75%    54682.000000    61.000000         114.090000    32.800000\n",
       "max    72940.000000    82.000000         271.740000    97.600000"
      ]
     },
     "execution_count": 12,
     "metadata": {},
     "output_type": "execute_result"
    }
   ],
   "source": [
    "stroke_data_replaced.describe()"
   ]
  },
  {
   "cell_type": "code",
   "execution_count": 13,
   "id": "7189df3d",
   "metadata": {},
   "outputs": [
    {
     "name": "stdout",
     "output_type": "stream",
     "text": [
      "<class 'pandas.core.frame.DataFrame'>\n",
      "RangeIndex: 5110 entries, 0 to 5109\n",
      "Data columns (total 12 columns):\n",
      " #   Column             Non-Null Count  Dtype  \n",
      "---  ------             --------------  -----  \n",
      " 0   id                 5110 non-null   int64  \n",
      " 1   gender             5110 non-null   object \n",
      " 2   age                5110 non-null   float64\n",
      " 3   hypertension       5110 non-null   object \n",
      " 4   heart_disease      5110 non-null   object \n",
      " 5   ever_married       5110 non-null   object \n",
      " 6   work_type          5110 non-null   object \n",
      " 7   Residence_type     5110 non-null   object \n",
      " 8   avg_glucose_level  5110 non-null   float64\n",
      " 9   bmi                5110 non-null   float64\n",
      " 10  smoking_status     5110 non-null   object \n",
      " 11  stroke             5110 non-null   object \n",
      "dtypes: float64(3), int64(1), object(8)\n",
      "memory usage: 479.2+ KB\n"
     ]
    }
   ],
   "source": [
    "stroke_data_replaced.info()"
   ]
  },
  {
   "cell_type": "code",
   "execution_count": 14,
   "id": "41ac9530",
   "metadata": {},
   "outputs": [],
   "source": [
    "categorical_col=[]\n",
    "numerical_col=[]\n",
    "for col in stroke_data_replaced.dtypes.index:\n",
    "    if stroke_data_replaced[col].dtype == 'object':\n",
    "        categorical_col.append(col)\n",
    "    else:\n",
    "        numerical_col.append(col)"
   ]
  },
  {
   "cell_type": "code",
   "execution_count": 15,
   "id": "bfcb15a9",
   "metadata": {},
   "outputs": [
    {
     "name": "stdout",
     "output_type": "stream",
     "text": [
      "Numerical Columns in DataFrame are : ['id', 'age', 'avg_glucose_level', 'bmi'] \n",
      "\n",
      "Categorical Columns in DataFrame are : ['gender', 'hypertension', 'heart_disease', 'ever_married', 'work_type', 'Residence_type', 'smoking_status', 'stroke']\n"
     ]
    }
   ],
   "source": [
    "print(\"Numerical Columns in DataFrame are :\",numerical_col, '\\n')\n",
    "print(\"Categorical Columns in DataFrame are :\",categorical_col)"
   ]
  },
  {
   "cell_type": "code",
   "execution_count": 16,
   "id": "e8e1f84a",
   "metadata": {},
   "outputs": [
    {
     "data": {
      "text/plain": [
       "<AxesSubplot:xlabel='stroke', ylabel='count'>"
      ]
     },
     "execution_count": 16,
     "metadata": {},
     "output_type": "execute_result"
    },
    {
     "data": {
      "image/png": "[encoded data removed]",
      "text/plain": [
       "<Figure size 432x288 with 1 Axes>"
      ]
     },
     "metadata": {
      "needs_background": "light"
     },
     "output_type": "display_data"
    }
   ],
   "source": [
    "sns.countplot(x='stroke',data = stroke_data_replaced)"
   ]
  },
  {
   "cell_type": "markdown",
   "id": "2c714fd2",
   "metadata": {},
   "source": [
    "We can see the data is highly imbalanced so we have to use data imbalance techniques to maintain data stability"
   ]
  },
  {
   "cell_type": "markdown",
   "id": "f558fda7",
   "metadata": {},
   "source": [
    "##  Visulization"
   ]
  },
  {
   "cell_type": "code",
   "execution_count": 17,
   "id": "50d20f7c",
   "metadata": {},
   "outputs": [],
   "source": [
    "def bar_plot(data,x,y='id',hue='stroke',group='stroke' ,title=None):\n",
    "    \"\"\"\n",
    "        function use to plot barplot by grouping the data\n",
    "\n",
    "    \"\"\"\n",
    "    try:\n",
    "        group=data.groupby([x,group],as_index=False)['id'].count()\n",
    "        sns.barplot(data=group,x=x,y=y,hue=hue,)\n",
    "        plt.title(\"Stroke count based on \"+ x , fontdict={'size' :16,'color':'red'})\n",
    "        plt.ylabel('Count',fontdict={'size':12,'color':'blue'})\n",
    "        plt.xlabel(x,fontdict={'size':12,'color':'blue'})\n",
    "        print('-'*100)\n",
    "        return display(group) ,plt.show()\n",
    "    except:\n",
    "        pass"
   ]
  },
  {
   "cell_type": "code",
   "execution_count": 18,
   "id": "9f90918c",
   "metadata": {},
   "outputs": [
    {
     "name": "stdout",
     "output_type": "stream",
     "text": [
      "----------------------------------------------------------------------------------------------------\n"
     ]
    },
    {
     "data": {
      "text/html": [
       "<div>\n",
       "<style scoped>\n",
       "    .dataframe tbody tr th:only-of-type {\n",
       "        vertical-align: middle;\n",
       "    }\n",
       "\n",
       "    .dataframe tbody tr th {\n",
       "        vertical-align: top;\n",
       "    }\n",
       "\n",
       "    .dataframe thead th {\n",
       "        text-align: right;\n",
       "    }\n",
       "</style>\n",
       "<table border=\"1\" class=\"dataframe\">\n",
       "  <thead>\n",
       "    <tr style=\"text-align: right;\">\n",
       "      <th></th>\n",
       "      <th>gender</th>\n",
       "      <th>stroke</th>\n",
       "      <th>id</th>\n",
       "    </tr>\n",
       "  </thead>\n",
       "  <tbody>\n",
       "    <tr>\n",
       "      <th>0</th>\n",
       "      <td>Female</td>\n",
       "      <td>No</td>\n",
       "      <td>2853</td>\n",
       "    </tr>\n",
       "    <tr>\n",
       "      <th>1</th>\n",
       "      <td>Female</td>\n",
       "      <td>Yes</td>\n",
       "      <td>141</td>\n",
       "    </tr>\n",
       "    <tr>\n",
       "      <th>2</th>\n",
       "      <td>Male</td>\n",
       "      <td>No</td>\n",
       "      <td>2007</td>\n",
       "    </tr>\n",
       "    <tr>\n",
       "      <th>3</th>\n",
       "      <td>Male</td>\n",
       "      <td>Yes</td>\n",
       "      <td>108</td>\n",
       "    </tr>\n",
       "    <tr>\n",
       "      <th>4</th>\n",
       "      <td>Other</td>\n",
       "      <td>No</td>\n",
       "      <td>1</td>\n",
       "    </tr>\n",
       "  </tbody>\n",
       "</table>\n",
       "</div>"
      ],
      "text/plain": [
       "   gender stroke    id\n",
       "0  Female     No  2853\n",
       "1  Female    Yes   141\n",
       "2    Male     No  2007\n",
       "3    Male    Yes   108\n",
       "4   Other     No     1"
      ]
     },
     "metadata": {},
     "output_type": "display_data"
    },
    {
     "data": {
      "image/png": "[encoded data removed]",
      "text/plain": [
       "<Figure size 432x288 with 1 Axes>"
      ]
     },
     "metadata": {
      "needs_background": "light"
     },
     "output_type": "display_data"
    },
    {
     "name": "stdout",
     "output_type": "stream",
     "text": [
      "----------------------------------------------------------------------------------------------------\n"
     ]
    },
    {
     "data": {
      "text/html": [
       "<div>\n",
       "<style scoped>\n",
       "    .dataframe tbody tr th:only-of-type {\n",
       "        vertical-align: middle;\n",
       "    }\n",
       "\n",
       "    .dataframe tbody tr th {\n",
       "        vertical-align: top;\n",
       "    }\n",
       "\n",
       "    .dataframe thead th {\n",
       "        text-align: right;\n",
       "    }\n",
       "</style>\n",
       "<table border=\"1\" class=\"dataframe\">\n",
       "  <thead>\n",
       "    <tr style=\"text-align: right;\">\n",
       "      <th></th>\n",
       "      <th>hypertension</th>\n",
       "      <th>stroke</th>\n",
       "      <th>id</th>\n",
       "    </tr>\n",
       "  </thead>\n",
       "  <tbody>\n",
       "    <tr>\n",
       "      <th>0</th>\n",
       "      <td>No</td>\n",
       "      <td>No</td>\n",
       "      <td>4429</td>\n",
       "    </tr>\n",
       "    <tr>\n",
       "      <th>1</th>\n",
       "      <td>No</td>\n",
       "      <td>Yes</td>\n",
       "      <td>183</td>\n",
       "    </tr>\n",
       "    <tr>\n",
       "      <th>2</th>\n",
       "      <td>Yes</td>\n",
       "      <td>No</td>\n",
       "      <td>432</td>\n",
       "    </tr>\n",
       "    <tr>\n",
       "      <th>3</th>\n",
       "      <td>Yes</td>\n",
       "      <td>Yes</td>\n",
       "      <td>66</td>\n",
       "    </tr>\n",
       "  </tbody>\n",
       "</table>\n",
       "</div>"
      ],
      "text/plain": [
       "  hypertension stroke    id\n",
       "0           No     No  4429\n",
       "1           No    Yes   183\n",
       "2          Yes     No   432\n",
       "3          Yes    Yes    66"
      ]
     },
     "metadata": {},
     "output_type": "display_data"
    },
    {
     "data": {
      "image/png": "[encoded data removed]",
      "text/plain": [
       "<Figure size 432x288 with 1 Axes>"
      ]
     },
     "metadata": {
      "needs_background": "light"
     },
     "output_type": "display_data"
    },
    {
     "name": "stdout",
     "output_type": "stream",
     "text": [
      "----------------------------------------------------------------------------------------------------\n"
     ]
    },
    {
     "data": {
      "text/html": [
       "<div>\n",
       "<style scoped>\n",
       "    .dataframe tbody tr th:only-of-type {\n",
       "        vertical-align: middle;\n",
       "    }\n",
       "\n",
       "    .dataframe tbody tr th {\n",
       "        vertical-align: top;\n",
       "    }\n",
       "\n",
       "    .dataframe thead th {\n",
       "        text-align: right;\n",
       "    }\n",
       "</style>\n",
       "<table border=\"1\" class=\"dataframe\">\n",
       "  <thead>\n",
       "    <tr style=\"text-align: right;\">\n",
       "      <th></th>\n",
       "      <th>heart_disease</th>\n",
       "      <th>stroke</th>\n",
       "      <th>id</th>\n",
       "    </tr>\n",
       "  </thead>\n",
       "  <tbody>\n",
       "    <tr>\n",
       "      <th>0</th>\n",
       "      <td>No</td>\n",
       "      <td>No</td>\n",
       "      <td>4632</td>\n",
       "    </tr>\n",
       "    <tr>\n",
       "      <th>1</th>\n",
       "      <td>No</td>\n",
       "      <td>Yes</td>\n",
       "      <td>202</td>\n",
       "    </tr>\n",
       "    <tr>\n",
       "      <th>2</th>\n",
       "      <td>Yes</td>\n",
       "      <td>No</td>\n",
       "      <td>229</td>\n",
       "    </tr>\n",
       "    <tr>\n",
       "      <th>3</th>\n",
       "      <td>Yes</td>\n",
       "      <td>Yes</td>\n",
       "      <td>47</td>\n",
       "    </tr>\n",
       "  </tbody>\n",
       "</table>\n",
       "</div>"
      ],
      "text/plain": [
       "  heart_disease stroke    id\n",
       "0            No     No  4632\n",
       "1            No    Yes   202\n",
       "2           Yes     No   229\n",
       "3           Yes    Yes    47"
      ]
     },
     "metadata": {},
     "output_type": "display_data"
    },
    {
     "data": {
      "image/png": "[encoded data removed]",
      "text/plain": [
       "<Figure size 432x288 with 1 Axes>"
      ]
     },
     "metadata": {
      "needs_background": "light"
     },
     "output_type": "display_data"
    },
    {
     "name": "stdout",
     "output_type": "stream",
     "text": [
      "----------------------------------------------------------------------------------------------------\n"
     ]
    },
    {
     "data": {
      "text/html": [
       "<div>\n",
       "<style scoped>\n",
       "    .dataframe tbody tr th:only-of-type {\n",
       "        vertical-align: middle;\n",
       "    }\n",
       "\n",
       "    .dataframe tbody tr th {\n",
       "        vertical-align: top;\n",
       "    }\n",
       "\n",
       "    .dataframe thead th {\n",
       "        text-align: right;\n",
       "    }\n",
       "</style>\n",
       "<table border=\"1\" class=\"dataframe\">\n",
       "  <thead>\n",
       "    <tr style=\"text-align: right;\">\n",
       "      <th></th>\n",
       "      <th>ever_married</th>\n",
       "      <th>stroke</th>\n",
       "      <th>id</th>\n",
       "    </tr>\n",
       "  </thead>\n",
       "  <tbody>\n",
       "    <tr>\n",
       "      <th>0</th>\n",
       "      <td>No</td>\n",
       "      <td>No</td>\n",
       "      <td>1728</td>\n",
       "    </tr>\n",
       "    <tr>\n",
       "      <th>1</th>\n",
       "      <td>No</td>\n",
       "      <td>Yes</td>\n",
       "      <td>29</td>\n",
       "    </tr>\n",
       "    <tr>\n",
       "      <th>2</th>\n",
       "      <td>Yes</td>\n",
       "      <td>No</td>\n",
       "      <td>3133</td>\n",
       "    </tr>\n",
       "    <tr>\n",
       "      <th>3</th>\n",
       "      <td>Yes</td>\n",
       "      <td>Yes</td>\n",
       "      <td>220</td>\n",
       "    </tr>\n",
       "  </tbody>\n",
       "</table>\n",
       "</div>"
      ],
      "text/plain": [
       "  ever_married stroke    id\n",
       "0           No     No  1728\n",
       "1           No    Yes    29\n",
       "2          Yes     No  3133\n",
       "3          Yes    Yes   220"
      ]
     },
     "metadata": {},
     "output_type": "display_data"
    },
    {
     "data": {
      "image/png": "[encoded data removed]",
      "text/plain": [
       "<Figure size 432x288 with 1 Axes>"
      ]
     },
     "metadata": {
      "needs_background": "light"
     },
     "output_type": "display_data"
    },
    {
     "name": "stdout",
     "output_type": "stream",
     "text": [
      "----------------------------------------------------------------------------------------------------\n"
     ]
    },
    {
     "data": {
      "text/html": [
       "<div>\n",
       "<style scoped>\n",
       "    .dataframe tbody tr th:only-of-type {\n",
       "        vertical-align: middle;\n",
       "    }\n",
       "\n",
       "    .dataframe tbody tr th {\n",
       "        vertical-align: top;\n",
       "    }\n",
       "\n",
       "    .dataframe thead th {\n",
       "        text-align: right;\n",
       "    }\n",
       "</style>\n",
       "<table border=\"1\" class=\"dataframe\">\n",
       "  <thead>\n",
       "    <tr style=\"text-align: right;\">\n",
       "      <th></th>\n",
       "      <th>work_type</th>\n",
       "      <th>stroke</th>\n",
       "      <th>id</th>\n",
       "    </tr>\n",
       "  </thead>\n",
       "  <tbody>\n",
       "    <tr>\n",
       "      <th>0</th>\n",
       "      <td>Govt_job</td>\n",
       "      <td>No</td>\n",
       "      <td>624</td>\n",
       "    </tr>\n",
       "    <tr>\n",
       "      <th>1</th>\n",
       "      <td>Govt_job</td>\n",
       "      <td>Yes</td>\n",
       "      <td>33</td>\n",
       "    </tr>\n",
       "    <tr>\n",
       "      <th>2</th>\n",
       "      <td>Never_worked</td>\n",
       "      <td>No</td>\n",
       "      <td>22</td>\n",
       "    </tr>\n",
       "    <tr>\n",
       "      <th>3</th>\n",
       "      <td>Private</td>\n",
       "      <td>No</td>\n",
       "      <td>2776</td>\n",
       "    </tr>\n",
       "    <tr>\n",
       "      <th>4</th>\n",
       "      <td>Private</td>\n",
       "      <td>Yes</td>\n",
       "      <td>149</td>\n",
       "    </tr>\n",
       "    <tr>\n",
       "      <th>5</th>\n",
       "      <td>Self-employed</td>\n",
       "      <td>No</td>\n",
       "      <td>754</td>\n",
       "    </tr>\n",
       "    <tr>\n",
       "      <th>6</th>\n",
       "      <td>Self-employed</td>\n",
       "      <td>Yes</td>\n",
       "      <td>65</td>\n",
       "    </tr>\n",
       "    <tr>\n",
       "      <th>7</th>\n",
       "      <td>children</td>\n",
       "      <td>No</td>\n",
       "      <td>685</td>\n",
       "    </tr>\n",
       "    <tr>\n",
       "      <th>8</th>\n",
       "      <td>children</td>\n",
       "      <td>Yes</td>\n",
       "      <td>2</td>\n",
       "    </tr>\n",
       "  </tbody>\n",
       "</table>\n",
       "</div>"
      ],
      "text/plain": [
       "       work_type stroke    id\n",
       "0       Govt_job     No   624\n",
       "1       Govt_job    Yes    33\n",
       "2   Never_worked     No    22\n",
       "3        Private     No  2776\n",
       "4        Private    Yes   149\n",
       "5  Self-employed     No   754\n",
       "6  Self-employed    Yes    65\n",
       "7       children     No   685\n",
       "8       children    Yes     2"
      ]
     },
     "metadata": {},
     "output_type": "display_data"
    },
    {
     "data": {
      "image/png": "[encoded data removed]",
      "text/plain": [
       "<Figure size 432x288 with 1 Axes>"
      ]
     },
     "metadata": {
      "needs_background": "light"
     },
     "output_type": "display_data"
    },
    {
     "name": "stdout",
     "output_type": "stream",
     "text": [
      "----------------------------------------------------------------------------------------------------\n"
     ]
    },
    {
     "data": {
      "text/html": [
       "<div>\n",
       "<style scoped>\n",
       "    .dataframe tbody tr th:only-of-type {\n",
       "        vertical-align: middle;\n",
       "    }\n",
       "\n",
       "    .dataframe tbody tr th {\n",
       "        vertical-align: top;\n",
       "    }\n",
       "\n",
       "    .dataframe thead th {\n",
       "        text-align: right;\n",
       "    }\n",
       "</style>\n",
       "<table border=\"1\" class=\"dataframe\">\n",
       "  <thead>\n",
       "    <tr style=\"text-align: right;\">\n",
       "      <th></th>\n",
       "      <th>Residence_type</th>\n",
       "      <th>stroke</th>\n",
       "      <th>id</th>\n",
       "    </tr>\n",
       "  </thead>\n",
       "  <tbody>\n",
       "    <tr>\n",
       "      <th>0</th>\n",
       "      <td>Rural</td>\n",
       "      <td>No</td>\n",
       "      <td>2400</td>\n",
       "    </tr>\n",
       "    <tr>\n",
       "      <th>1</th>\n",
       "      <td>Rural</td>\n",
       "      <td>Yes</td>\n",
       "      <td>114</td>\n",
       "    </tr>\n",
       "    <tr>\n",
       "      <th>2</th>\n",
       "      <td>Urban</td>\n",
       "      <td>No</td>\n",
       "      <td>2461</td>\n",
       "    </tr>\n",
       "    <tr>\n",
       "      <th>3</th>\n",
       "      <td>Urban</td>\n",
       "      <td>Yes</td>\n",
       "      <td>135</td>\n",
       "    </tr>\n",
       "  </tbody>\n",
       "</table>\n",
       "</div>"
      ],
      "text/plain": [
       "  Residence_type stroke    id\n",
       "0          Rural     No  2400\n",
       "1          Rural    Yes   114\n",
       "2          Urban     No  2461\n",
       "3          Urban    Yes   135"
      ]
     },
     "metadata": {},
     "output_type": "display_data"
    },
    {
     "data": {
      "image/png": "[encoded data removed]",
      "text/plain": [
       "<Figure size 432x288 with 1 Axes>"
      ]
     },
     "metadata": {
      "needs_background": "light"
     },
     "output_type": "display_data"
    },
    {
     "name": "stdout",
     "output_type": "stream",
     "text": [
      "----------------------------------------------------------------------------------------------------\n"
     ]
    },
    {
     "data": {
      "text/html": [
       "<div>\n",
       "<style scoped>\n",
       "    .dataframe tbody tr th:only-of-type {\n",
       "        vertical-align: middle;\n",
       "    }\n",
       "\n",
       "    .dataframe tbody tr th {\n",
       "        vertical-align: top;\n",
       "    }\n",
       "\n",
       "    .dataframe thead th {\n",
       "        text-align: right;\n",
       "    }\n",
       "</style>\n",
       "<table border=\"1\" class=\"dataframe\">\n",
       "  <thead>\n",
       "    <tr style=\"text-align: right;\">\n",
       "      <th></th>\n",
       "      <th>smoking_status</th>\n",
       "      <th>stroke</th>\n",
       "      <th>id</th>\n",
       "    </tr>\n",
       "  </thead>\n",
       "  <tbody>\n",
       "    <tr>\n",
       "      <th>0</th>\n",
       "      <td>Unknown</td>\n",
       "      <td>No</td>\n",
       "      <td>1497</td>\n",
       "    </tr>\n",
       "    <tr>\n",
       "      <th>1</th>\n",
       "      <td>Unknown</td>\n",
       "      <td>Yes</td>\n",
       "      <td>47</td>\n",
       "    </tr>\n",
       "    <tr>\n",
       "      <th>2</th>\n",
       "      <td>formerly smoked</td>\n",
       "      <td>No</td>\n",
       "      <td>815</td>\n",
       "    </tr>\n",
       "    <tr>\n",
       "      <th>3</th>\n",
       "      <td>formerly smoked</td>\n",
       "      <td>Yes</td>\n",
       "      <td>70</td>\n",
       "    </tr>\n",
       "    <tr>\n",
       "      <th>4</th>\n",
       "      <td>never smoked</td>\n",
       "      <td>No</td>\n",
       "      <td>1802</td>\n",
       "    </tr>\n",
       "    <tr>\n",
       "      <th>5</th>\n",
       "      <td>never smoked</td>\n",
       "      <td>Yes</td>\n",
       "      <td>90</td>\n",
       "    </tr>\n",
       "    <tr>\n",
       "      <th>6</th>\n",
       "      <td>smokes</td>\n",
       "      <td>No</td>\n",
       "      <td>747</td>\n",
       "    </tr>\n",
       "    <tr>\n",
       "      <th>7</th>\n",
       "      <td>smokes</td>\n",
       "      <td>Yes</td>\n",
       "      <td>42</td>\n",
       "    </tr>\n",
       "  </tbody>\n",
       "</table>\n",
       "</div>"
      ],
      "text/plain": [
       "    smoking_status stroke    id\n",
       "0          Unknown     No  1497\n",
       "1          Unknown    Yes    47\n",
       "2  formerly smoked     No   815\n",
       "3  formerly smoked    Yes    70\n",
       "4     never smoked     No  1802\n",
       "5     never smoked    Yes    90\n",
       "6           smokes     No   747\n",
       "7           smokes    Yes    42"
      ]
     },
     "metadata": {},
     "output_type": "display_data"
    },
    {
     "data": {
      "image/png": "[encoded data removed]",
      "text/plain": [
       "<Figure size 432x288 with 1 Axes>"
      ]
     },
     "metadata": {
      "needs_background": "light"
     },
     "output_type": "display_data"
    }
   ],
   "source": [
    "for col in categorical_col:\n",
    "    bar_plot(stroke_data_replaced,col)"
   ]
  },
  {
   "cell_type": "markdown",
   "id": "88001b42",
   "metadata": {},
   "source": [
    "Things that can be assumed on the basis of above plots:\n",
    "- Stroke Count based on gender\n",
    "    \n",
    "    - it is around 5% for males and 4% for females those have been struggling with stroke\n",
    "    \n",
    "    - this can be the important feature as 1% is a significant drop\n",
    "    \n",
    "\n",
    "- Stroke Count based on hypertension\n",
    "\n",
    "    - It is found to be person tested with hypertension is more likely to be stroked (~ 13%)\n",
    "    \n",
    "\n",
    "    - and this is also accepted by having some prior domain knowledge\n",
    "    \n",
    "    \n",
    "- Stroke Count based on heart_disease\n",
    "\n",
    "\n",
    "    - It is found to be person with heart disease are at high risk of stroke (~ 17%)\n",
    "    \n",
    "\n",
    "    - This is also accepted by having some prior domain knowlegde\n",
    "    \n",
    "\n",
    "- Stroke Count Based on maritial Status\n",
    "\n",
    "\n",
    "    - 6% of married people have faced stroke\n",
    "    \n",
    "\n",
    "    - also is it to be notice that we have more baised data around the married people nearly 2000 more entries married people\n",
    "    \n",
    "\n",
    "    - This need to be investigated further\n",
    "    \n",
    "\n",
    "- Stroke count Based on Work Type\n",
    "\n",
    "\n",
    "    - Based on the data it is seen that there are more number of records for private sector jobs\n",
    "    \n",
    "\n",
    "    - It can be possible that people having govt job are more relived than people with private jobs but on other have people having no job don't have stroke who should probaly be more worried about getting a job\n",
    "    \n",
    "\n",
    "    - And children are being tested positive for stroke\n",
    "    \n",
    "\n",
    "    - Conclusively Stroke doesn't depends on Work Type\n",
    "    \n",
    "\n",
    "- Stroke based on Residence Type\n",
    "\n",
    "\n",
    "    - People living in Urban Areas have !% more Stroke than People Living in Rural areas\n",
    "    \n",
    "\n",
    "    - Urban areas have more Pollution level and Busy life style which can have great impact on the health of a person\n",
    "    \n",
    "\n",
    "- Stroke Count Based on Smoking Status\n",
    "\n",
    "\n",
    "    - Similary for people who formerly smoked or smokes have more chances to get Stroke than people who doesn't\n",
    "    \n",
    "\n",
    "    - It is un predictable for the people with Unknown Status\n",
    "    \n",
    "\n",
    "\n",
    "\n",
    "By above Study it is clear that we are going to drop the featue Work Type as it doesn't contribute to prediction\n",
    "\n",
    "And The Featue Maritial Status need to be further investigated"
   ]
  },
  {
   "cell_type": "code",
   "execution_count": 19,
   "id": "34caf991",
   "metadata": {},
   "outputs": [],
   "source": [
    "Feature_to_drop=['work_type']"
   ]
  },
  {
   "cell_type": "code",
   "execution_count": 20,
   "id": "41f22024",
   "metadata": {},
   "outputs": [],
   "source": [
    "def scatter_plot(data,x,y='stroke',title=None):\n",
    "    plt.figure(figsize=(10,7))\n",
    "    plt.title(\"Relationship of \"+ y + \" v/s \"+ x , fontdict={'size':18,'color':'red'})\n",
    "    sns.scatterplot(data=data,x=x,y='stroke')\n",
    "    plt.xlabel(x,fontdict={'size':12,\"color\":'blue'})\n",
    "    plt.ylabel(y,fontdict={'size':12,\"color\":'blue'})\n",
    "    print('-'*100)\n",
    "    return plt.show()"
   ]
  },
  {
   "cell_type": "code",
   "execution_count": 21,
   "id": "344e8f7c",
   "metadata": {},
   "outputs": [
    {
     "name": "stdout",
     "output_type": "stream",
     "text": [
      "----------------------------------------------------------------------------------------------------\n"
     ]
    },
    {
     "data": {
      "image/png": "[encoded data removed]",
      "text/plain": [
       "<Figure size 720x504 with 1 Axes>"
      ]
     },
     "metadata": {
      "needs_background": "light"
     },
     "output_type": "display_data"
    },
    {
     "name": "stdout",
     "output_type": "stream",
     "text": [
      "----------------------------------------------------------------------------------------------------\n"
     ]
    },
    {
     "data": {
      "image/png": "[encoded data removed]",
      "text/plain": [
       "<Figure size 720x504 with 1 Axes>"
      ]
     },
     "metadata": {
      "needs_background": "light"
     },
     "output_type": "display_data"
    },
    {
     "name": "stdout",
     "output_type": "stream",
     "text": [
      "----------------------------------------------------------------------------------------------------\n"
     ]
    },
    {
     "data": {
      "image/png": "[encoded data removed]",
      "text/plain": [
       "<Figure size 720x504 with 1 Axes>"
      ]
     },
     "metadata": {
      "needs_background": "light"
     },
     "output_type": "display_data"
    },
    {
     "name": "stdout",
     "output_type": "stream",
     "text": [
      "----------------------------------------------------------------------------------------------------\n"
     ]
    },
    {
     "data": {
      "image/png": "[encoded data removed]",
      "text/plain": [
       "<Figure size 720x504 with 1 Axes>"
      ]
     },
     "metadata": {
      "needs_background": "light"
     },
     "output_type": "display_data"
    }
   ],
   "source": [
    "for col in numerical_col:\n",
    "    scatter_plot(stroke_data_replaced,col)"
   ]
  },
  {
   "cell_type": "markdown",
   "id": "5e3d2b93",
   "metadata": {},
   "source": [
    "Things that can be assumed on the basis of above plots:\n",
    "\n",
    "- Relationship of Stroke and id\n",
    "\n",
    "    - this feature id is totally irrelavent for prediction purpose as it add no information to the data\n",
    "    \n",
    "    - every person will have different id and no pattern will be formed\n",
    "        \n",
    "- Relationship of Stroke and age\n",
    "    - According to the trend elder people will have high risk of getting stroked\n",
    "    \n",
    "- Relationship of Stroke and average glucose level \n",
    "\n",
    "    - People having glucose level around 150 mg/dl are less prone to get stroke\n",
    "\n",
    "    - while people having more or less than this are more prone for stroke\n",
    "- Relationship of Stroke and average BMI\n",
    "    - we can't really tell if this is a good predictor or not\n",
    "    - further investgation is needed"
   ]
  },
  {
   "cell_type": "code",
   "execution_count": 22,
   "id": "320e6312",
   "metadata": {},
   "outputs": [
    {
     "data": {
      "text/html": [
       "<div>\n",
       "<style scoped>\n",
       "    .dataframe tbody tr th:only-of-type {\n",
       "        vertical-align: middle;\n",
       "    }\n",
       "\n",
       "    .dataframe tbody tr th {\n",
       "        vertical-align: top;\n",
       "    }\n",
       "\n",
       "    .dataframe thead th {\n",
       "        text-align: right;\n",
       "    }\n",
       "</style>\n",
       "<table border=\"1\" class=\"dataframe\">\n",
       "  <thead>\n",
       "    <tr style=\"text-align: right;\">\n",
       "      <th></th>\n",
       "      <th>id</th>\n",
       "      <th>gender</th>\n",
       "      <th>age</th>\n",
       "      <th>hypertension</th>\n",
       "      <th>heart_disease</th>\n",
       "      <th>ever_married</th>\n",
       "      <th>work_type</th>\n",
       "      <th>Residence_type</th>\n",
       "      <th>avg_glucose_level</th>\n",
       "      <th>bmi</th>\n",
       "      <th>smoking_status</th>\n",
       "      <th>stroke</th>\n",
       "    </tr>\n",
       "  </thead>\n",
       "  <tbody>\n",
       "    <tr>\n",
       "      <th>0</th>\n",
       "      <td>9046</td>\n",
       "      <td>Male</td>\n",
       "      <td>67.0</td>\n",
       "      <td>No</td>\n",
       "      <td>Yes</td>\n",
       "      <td>Yes</td>\n",
       "      <td>Private</td>\n",
       "      <td>Urban</td>\n",
       "      <td>228.69</td>\n",
       "      <td>36.600000</td>\n",
       "      <td>formerly smoked</td>\n",
       "      <td>Yes</td>\n",
       "    </tr>\n",
       "    <tr>\n",
       "      <th>1</th>\n",
       "      <td>51676</td>\n",
       "      <td>Female</td>\n",
       "      <td>61.0</td>\n",
       "      <td>No</td>\n",
       "      <td>No</td>\n",
       "      <td>Yes</td>\n",
       "      <td>Self-employed</td>\n",
       "      <td>Rural</td>\n",
       "      <td>202.21</td>\n",
       "      <td>28.893237</td>\n",
       "      <td>never smoked</td>\n",
       "      <td>Yes</td>\n",
       "    </tr>\n",
       "    <tr>\n",
       "      <th>2</th>\n",
       "      <td>31112</td>\n",
       "      <td>Male</td>\n",
       "      <td>80.0</td>\n",
       "      <td>No</td>\n",
       "      <td>Yes</td>\n",
       "      <td>Yes</td>\n",
       "      <td>Private</td>\n",
       "      <td>Rural</td>\n",
       "      <td>105.92</td>\n",
       "      <td>32.500000</td>\n",
       "      <td>never smoked</td>\n",
       "      <td>Yes</td>\n",
       "    </tr>\n",
       "    <tr>\n",
       "      <th>3</th>\n",
       "      <td>60182</td>\n",
       "      <td>Female</td>\n",
       "      <td>49.0</td>\n",
       "      <td>No</td>\n",
       "      <td>No</td>\n",
       "      <td>Yes</td>\n",
       "      <td>Private</td>\n",
       "      <td>Urban</td>\n",
       "      <td>171.23</td>\n",
       "      <td>34.400000</td>\n",
       "      <td>smokes</td>\n",
       "      <td>Yes</td>\n",
       "    </tr>\n",
       "    <tr>\n",
       "      <th>4</th>\n",
       "      <td>1665</td>\n",
       "      <td>Female</td>\n",
       "      <td>79.0</td>\n",
       "      <td>Yes</td>\n",
       "      <td>No</td>\n",
       "      <td>Yes</td>\n",
       "      <td>Self-employed</td>\n",
       "      <td>Rural</td>\n",
       "      <td>174.12</td>\n",
       "      <td>24.000000</td>\n",
       "      <td>never smoked</td>\n",
       "      <td>Yes</td>\n",
       "    </tr>\n",
       "  </tbody>\n",
       "</table>\n",
       "</div>"
      ],
      "text/plain": [
       "      id  gender   age hypertension heart_disease ever_married      work_type  \\\n",
       "0   9046    Male  67.0           No           Yes          Yes        Private   \n",
       "1  51676  Female  61.0           No            No          Yes  Self-employed   \n",
       "2  31112    Male  80.0           No           Yes          Yes        Private   \n",
       "3  60182  Female  49.0           No            No          Yes        Private   \n",
       "4   1665  Female  79.0          Yes            No          Yes  Self-employed   \n",
       "\n",
       "  Residence_type  avg_glucose_level        bmi   smoking_status stroke  \n",
       "0          Urban             228.69  36.600000  formerly smoked    Yes  \n",
       "1          Rural             202.21  28.893237     never smoked    Yes  \n",
       "2          Rural             105.92  32.500000     never smoked    Yes  \n",
       "3          Urban             171.23  34.400000           smokes    Yes  \n",
       "4          Rural             174.12  24.000000     never smoked    Yes  "
      ]
     },
     "execution_count": 22,
     "metadata": {},
     "output_type": "execute_result"
    }
   ],
   "source": [
    "stroke_data_replaced.head()"
   ]
  },
  {
   "cell_type": "code",
   "execution_count": 23,
   "id": "a1162c15",
   "metadata": {},
   "outputs": [],
   "source": [
    "Feature_to_drop.append('id')"
   ]
  },
  {
   "cell_type": "code",
   "execution_count": 24,
   "id": "0cf18e7f",
   "metadata": {},
   "outputs": [],
   "source": [
    "stroke_data_replaced.drop(Feature_to_drop,axis=1,inplace=True)"
   ]
  },
  {
   "cell_type": "code",
   "execution_count": 25,
   "id": "952f29f9",
   "metadata": {},
   "outputs": [
    {
     "data": {
      "text/plain": [
       "<seaborn.axisgrid.PairGrid at 0x20fdc00e640>"
      ]
     },
     "execution_count": 25,
     "metadata": {},
     "output_type": "execute_result"
    },
    {
     "data": {
      "image/png": "[encoded data removed]",
      "text/plain": [
       "<Figure size 592x540 with 12 Axes>"
      ]
     },
     "metadata": {
      "needs_background": "light"
     },
     "output_type": "display_data"
    }
   ],
   "source": [
    "sns.pairplot(stroke_data_replaced,hue='stroke')"
   ]
  },
  {
   "cell_type": "code",
   "execution_count": 26,
   "id": "8f806f5e",
   "metadata": {},
   "outputs": [
    {
     "data": {
      "text/html": [
       "<div>\n",
       "<style scoped>\n",
       "    .dataframe tbody tr th:only-of-type {\n",
       "        vertical-align: middle;\n",
       "    }\n",
       "\n",
       "    .dataframe tbody tr th {\n",
       "        vertical-align: top;\n",
       "    }\n",
       "\n",
       "    .dataframe thead th {\n",
       "        text-align: right;\n",
       "    }\n",
       "</style>\n",
       "<table border=\"1\" class=\"dataframe\">\n",
       "  <thead>\n",
       "    <tr style=\"text-align: right;\">\n",
       "      <th></th>\n",
       "      <th>gender</th>\n",
       "      <th>age</th>\n",
       "      <th>hypertension</th>\n",
       "      <th>heart_disease</th>\n",
       "      <th>ever_married</th>\n",
       "      <th>Residence_type</th>\n",
       "      <th>avg_glucose_level</th>\n",
       "      <th>bmi</th>\n",
       "      <th>smoking_status</th>\n",
       "      <th>stroke</th>\n",
       "    </tr>\n",
       "  </thead>\n",
       "  <tbody>\n",
       "    <tr>\n",
       "      <th>485</th>\n",
       "      <td>Female</td>\n",
       "      <td>31.0</td>\n",
       "      <td>No</td>\n",
       "      <td>No</td>\n",
       "      <td>Yes</td>\n",
       "      <td>Urban</td>\n",
       "      <td>98.99</td>\n",
       "      <td>31.2</td>\n",
       "      <td>never smoked</td>\n",
       "      <td>No</td>\n",
       "    </tr>\n",
       "    <tr>\n",
       "      <th>871</th>\n",
       "      <td>Female</td>\n",
       "      <td>62.0</td>\n",
       "      <td>Yes</td>\n",
       "      <td>No</td>\n",
       "      <td>Yes</td>\n",
       "      <td>Rural</td>\n",
       "      <td>77.04</td>\n",
       "      <td>34.7</td>\n",
       "      <td>never smoked</td>\n",
       "      <td>No</td>\n",
       "    </tr>\n",
       "    <tr>\n",
       "      <th>1125</th>\n",
       "      <td>Female</td>\n",
       "      <td>59.0</td>\n",
       "      <td>Yes</td>\n",
       "      <td>No</td>\n",
       "      <td>No</td>\n",
       "      <td>Rural</td>\n",
       "      <td>57.26</td>\n",
       "      <td>23.5</td>\n",
       "      <td>never smoked</td>\n",
       "      <td>No</td>\n",
       "    </tr>\n",
       "    <tr>\n",
       "      <th>3347</th>\n",
       "      <td>Male</td>\n",
       "      <td>80.0</td>\n",
       "      <td>No</td>\n",
       "      <td>No</td>\n",
       "      <td>Yes</td>\n",
       "      <td>Urban</td>\n",
       "      <td>148.72</td>\n",
       "      <td>28.7</td>\n",
       "      <td>never smoked</td>\n",
       "      <td>No</td>\n",
       "    </tr>\n",
       "    <tr>\n",
       "      <th>2427</th>\n",
       "      <td>Female</td>\n",
       "      <td>37.0</td>\n",
       "      <td>No</td>\n",
       "      <td>No</td>\n",
       "      <td>No</td>\n",
       "      <td>Rural</td>\n",
       "      <td>77.37</td>\n",
       "      <td>21.4</td>\n",
       "      <td>never smoked</td>\n",
       "      <td>No</td>\n",
       "    </tr>\n",
       "  </tbody>\n",
       "</table>\n",
       "</div>"
      ],
      "text/plain": [
       "      gender   age hypertension heart_disease ever_married Residence_type  \\\n",
       "485   Female  31.0           No            No          Yes          Urban   \n",
       "871   Female  62.0          Yes            No          Yes          Rural   \n",
       "1125  Female  59.0          Yes            No           No          Rural   \n",
       "3347    Male  80.0           No            No          Yes          Urban   \n",
       "2427  Female  37.0           No            No           No          Rural   \n",
       "\n",
       "      avg_glucose_level   bmi smoking_status stroke  \n",
       "485               98.99  31.2   never smoked     No  \n",
       "871               77.04  34.7   never smoked     No  \n",
       "1125              57.26  23.5   never smoked     No  \n",
       "3347             148.72  28.7   never smoked     No  \n",
       "2427              77.37  21.4   never smoked     No  "
      ]
     },
     "execution_count": 26,
     "metadata": {},
     "output_type": "execute_result"
    }
   ],
   "source": [
    "sample=stroke_data_replaced.sample(n=100,random_state=72018,)\n",
    "sample.head()"
   ]
  },
  {
   "cell_type": "code",
   "execution_count": 27,
   "id": "aed9d17e",
   "metadata": {},
   "outputs": [],
   "source": [
    "def outlier_detection(data,x):\n",
    "    plt.figure(figsize=(10,7))\n",
    "    plt.title(\"Outliers for \" + x , fontdict={'size':18,'color':'red'})\n",
    "    sns.boxplot(data=data,x=x)\n",
    "    plt.xlabel(x,fontdict={'size':12,\"color\":'blue'})\n",
    "    print('-'*100)\n",
    "    return plt.show()"
   ]
  },
  {
   "cell_type": "code",
   "execution_count": 28,
   "id": "42cab19a",
   "metadata": {},
   "outputs": [
    {
     "name": "stdout",
     "output_type": "stream",
     "text": [
      "----------------------------------------------------------------------------------------------------\n"
     ]
    },
    {
     "data": {
      "image/png": "[encoded data removed]",
      "text/plain": [
       "<Figure size 720x504 with 1 Axes>"
      ]
     },
     "metadata": {
      "needs_background": "light"
     },
     "output_type": "display_data"
    },
    {
     "name": "stdout",
     "output_type": "stream",
     "text": [
      "----------------------------------------------------------------------------------------------------\n"
     ]
    },
    {
     "data": {
      "image/png": "[encoded data removed]",
      "text/plain": [
       "<Figure size 720x504 with 1 Axes>"
      ]
     },
     "metadata": {
      "needs_background": "light"
     },
     "output_type": "display_data"
    },
    {
     "name": "stdout",
     "output_type": "stream",
     "text": [
      "----------------------------------------------------------------------------------------------------\n"
     ]
    },
    {
     "data": {
      "image/png": "[encoded data removed]",
      "text/plain": [
       "<Figure size 720x504 with 1 Axes>"
      ]
     },
     "metadata": {
      "needs_background": "light"
     },
     "output_type": "display_data"
    }
   ],
   "source": [
    "for i in numerical_col:\n",
    "    if i!='id':\n",
    "        outlier_detection(stroke_data_replaced,i)"
   ]
  },
  {
   "cell_type": "markdown",
   "id": "e7a875ed",
   "metadata": {},
   "source": [
    "From this we can see clearly the Column bmi and average glucose level have a lot of outliers we can handle this with suitable techniques like replacing it with mean or median or dropping in in this case we are ieabing these outliers as it is.\n",
    "\n",
    "In hope that an extreme behaviour target variable are highly dependent on the pattern of these features"
   ]
  },
  {
   "cell_type": "markdown",
   "id": "dc7e8aa8",
   "metadata": {},
   "source": [
    "### Data Transformation\n"
   ]
  },
  {
   "cell_type": "code",
   "execution_count": 29,
   "id": "74a6096e",
   "metadata": {},
   "outputs": [],
   "source": [
    "#this wil masl the categorical columns\n",
    "mask = stroke_data_replaced.dtypes == np.object_"
   ]
  },
  {
   "cell_type": "code",
   "execution_count": 30,
   "id": "92fe93eb",
   "metadata": {},
   "outputs": [],
   "source": [
    "#here we separate the numerical and categorical columns\n",
    "categorical_col = stroke_data_replaced.columns[mask.values]\n",
    "numerical_col = stroke_data_replaced.columns[~mask.values]"
   ]
  },
  {
   "cell_type": "code",
   "execution_count": 31,
   "id": "0c782c9f",
   "metadata": {},
   "outputs": [],
   "source": [
    "#now separate ordinal and onehot columns\n",
    "#here by the visulization we know our ordinal column have >2 variables\n",
    "\n",
    "onehot_categorical_columns=[]\n",
    "ordinal_categorical_columns=[]\n",
    "for i in categorical_col:\n",
    "    if stroke_data_replaced[i].nunique()<3:\n",
    "        onehot_categorical_columns.append(i)\n",
    "    else:\n",
    "        ordinal_categorical_columns.append(i)"
   ]
  },
  {
   "cell_type": "code",
   "execution_count": 32,
   "id": "5fd2db52",
   "metadata": {},
   "outputs": [],
   "source": [
    "#this version of scikit-learn doesn't support the handle unknown option for ordinal encoder so this will replace ordinal encoder\n",
    "converter={'gender':{'Other':0,'Male':1,'Female':2},'smoking_status':{'formerly smoked':1, 'never smoked':2, 'smokes':3, 'Unknown':4}}\n",
    "for i in ordinal_categorical_columns:\n",
    "    stroke_data_replaced[i]=stroke_data_replaced[i].map(converter[i])"
   ]
  },
  {
   "cell_type": "code",
   "execution_count": 33,
   "id": "87e82278",
   "metadata": {},
   "outputs": [],
   "source": [
    "#Create our transformers that will transform the columns \n",
    "#oridnal transformer\n",
    "#OD=OrdinalEncoder(handle_unknown='use_encoded_value',unknown_value=5)\n",
    "\n",
    "#min max scaler\n",
    "MM=MinMaxScaler()\n",
    "\n",
    "#label encoder for target variable\n",
    "LE=LabelEncoder()\n",
    "\n",
    "#one hot encoded column\n",
    "OHE=OneHotEncoder(handle_unknown='ignore')"
   ]
  },
  {
   "cell_type": "code",
   "execution_count": 34,
   "id": "538745fe",
   "metadata": {},
   "outputs": [],
   "source": [
    "#traget variable\n",
    "y=stroke_data_replaced['stroke']\n",
    "\n",
    "#remove from onehot columns\n",
    "onehot_categorical_columns.remove('stroke')"
   ]
  },
  {
   "cell_type": "code",
   "execution_count": 35,
   "id": "d7ec485f",
   "metadata": {},
   "outputs": [],
   "source": [
    "#create column transformer that will transform the columns respective to the criteria\n",
    "#transformer=ColumnTransformer(transformers=[('numerical',MM,numerical_col),\n",
    "#                                            ('ordinal',OD,ordinal_categorical_columns),\n",
    "#                                            ('onehot',OHE,onehot_categorical_columns)])\n",
    "\n",
    "#use te transformer above if you are using ordinal_encoder\n",
    "transformer=ColumnTransformer(transformers=[('numerical',MM,numerical_col),('onehot',OHE,onehot_categorical_columns)])"
   ]
  },
  {
   "cell_type": "code",
   "execution_count": 36,
   "id": "4c2c4fe1",
   "metadata": {},
   "outputs": [],
   "source": [
    "#feature columns\n",
    "X=stroke_data_replaced.drop('stroke',axis=1)"
   ]
  },
  {
   "cell_type": "code",
   "execution_count": 37,
   "id": "1f78b097",
   "metadata": {},
   "outputs": [],
   "source": [
    "#used for oversampling the data as it is highly imbalanced\n",
    "ROS=RandomOverSampler(random_state=42)"
   ]
  },
  {
   "cell_type": "code",
   "execution_count": 38,
   "id": "6d06a27b",
   "metadata": {},
   "outputs": [],
   "source": [
    "def transform_and_resample_data(X,y):\n",
    "    \"\"\"\n",
    "    It accepts feature column and target column.\n",
    "    split the data int train and test set in stratify manner.\n",
    "    transform the target with label encoder\n",
    "    over sample the target set.\n",
    "    return train set and test set\n",
    "    \"\"\"\n",
    "    \n",
    "    train_X,test_X,train_y,test_y = train_test_split(X,y,test_size=0.2,random_state=42,stratify=y)\n",
    "    train_y = LE.fit_transform(train_y)\n",
    "    test_y = LE.transform(test_y)\n",
    "    train_X_resampled , train_y_resampled = ROS.fit_resample(train_X,train_y)\n",
    "\n",
    "\n",
    "    return train_X_resampled,train_y_resampled,test_X,test_y"
   ]
  },
  {
   "cell_type": "markdown",
   "id": "5e5ec7f4",
   "metadata": {},
   "source": [
    "### Model traning and prediction\n"
   ]
  },
  {
   "cell_type": "code",
   "execution_count": 39,
   "id": "41b4e5c3",
   "metadata": {},
   "outputs": [],
   "source": [
    "def prune_tree(train_X,train_y,transformer):\n",
    "    \"\"\"\n",
    "    accepts the model and train data.\n",
    "    fit to Decision tree return the required parameter. \n",
    "    \n",
    "    It is used to prune the tree to generate range of the parameters.\n",
    "    \"\"\"\n",
    "    model = DecisionTreeClassifier(criterion='gini',random_state=42)\n",
    "    \n",
    "    pipeline=Pipeline(steps=[('transform',transformer),\n",
    "                             ('model',model)])\n",
    "    \n",
    "    pipeline.fit(train_X,train_y)\n",
    "    return model.tree_.max_depth,model.tree_.n_features"
   ]
  },
  {
   "cell_type": "code",
   "execution_count": 40,
   "id": "2a445939",
   "metadata": {},
   "outputs": [],
   "source": [
    "def model_selection(train_X,train_y,transformer,current=None):\n",
    "    \"\"\"\n",
    "    It is used to select different models for traning purpose based in the value of current.\n",
    "    \n",
    "    \"\"\"\n",
    "    if current == 0:\n",
    "        \n",
    "        label='Logistic Regression'\n",
    "        model = LogisticRegression(solver='liblinear')\n",
    "        params = {'model__C':[0.001,0.01,0.1,1,10],\n",
    "               'model__penalty':['l1','l2']}\n",
    "        \n",
    "    elif current == 1:\n",
    "        \n",
    "        label = 'KNeighborsClassifier'\n",
    "        model = KNeighborsClassifier(weights='distance')\n",
    "        params = {'model__n_neighbors':list(range(2,20))}\n",
    "        \n",
    "    elif current == 2:\n",
    "        \n",
    "        label = 'SVC'\n",
    "        model = SVC(kernel='rbf')\n",
    "        params = {'model__C':[0.001,0.01,0.1,1,10]}\n",
    "        \n",
    "    elif current == 3:\n",
    "        \n",
    "        label = 'DecisionTreeClassifier'\n",
    "        model = DecisionTreeClassifier(criterion='entropy',random_state=42)\n",
    "        max_depth, max_features = prune_tree(train_X,train_y,transformer)\n",
    "        params = {'model__max_depth':list(range(1,max_depth+1,2)),\n",
    "                 'model__max_features':list(range(1,max_features))}\n",
    "        \n",
    "    else:\n",
    "        raise ValueError('No value passed for current')\n",
    "        \n",
    "    return model, params, label"
   ]
  },
  {
   "cell_type": "code",
   "execution_count": 41,
   "id": "ad4f073d",
   "metadata": {},
   "outputs": [],
   "source": [
    "def scoring(model , params, true, pred):\n",
    "    \"\"\"\n",
    "    It is used to score the model based on its preformance \n",
    "    Accepts model , parameter, original labels and predicted labels\n",
    "    \n",
    "    \"\"\"\n",
    "    re_Y = recall_score(true, pred, pos_label=1)\n",
    "    re_N = recall_score(true, pred, pos_label=0)\n",
    "    pr_Y = precision_score(true, pred, pos_label=1)\n",
    "    pr_N = precision_score(true, pred, pos_label=0)\n",
    "    f1_Y = f1_score(true, pred, pos_label=1)\n",
    "    f1_N = f1_score(true, pred, pos_label=0)\n",
    "    acc = accuracy_score(true, pred)\n",
    "    data = pd.Series({'model':model,\n",
    "                      'params': params,\n",
    "                      'recall_Yes': re_Y,\n",
    "                      'recall_No': re_N,\n",
    "                      'precision_Yes':pr_Y,\n",
    "                      'precision_No':pr_N,\n",
    "                      'f1_Yes':f1_Y,\n",
    "                      'f1_No':f1_N,\n",
    "                      'accuracy':acc})\n",
    "    \n",
    "    return data"
   ]
  },
  {
   "cell_type": "code",
   "execution_count": 42,
   "id": "c2c52ebe",
   "metadata": {},
   "outputs": [
    {
     "name": "stdout",
     "output_type": "stream",
     "text": [
      "* * * * * * * * * * * * * * * * * * * This results are for Logistic Regression * * * * * * * * * * * * * * * * * * *\n",
      "----- Classification report -----\n",
      "              precision    recall  f1-score   support\n",
      "\n",
      "           0       0.98      0.67      0.80       972\n",
      "           1       0.11      0.76      0.19        50\n",
      "\n",
      "    accuracy                           0.67      1022\n",
      "   macro avg       0.54      0.71      0.49      1022\n",
      "weighted avg       0.94      0.67      0.77      1022\n",
      "\n",
      "----- Confusion matrix -----\n",
      "[[650 322]\n",
      " [ 12  38]]\n",
      "* * * * * * * * * * * * * * * * * * * This results are for KNeighborsClassifier * * * * * * * * * * * * * * * * * * *\n",
      "----- Classification report -----\n",
      "              precision    recall  f1-score   support\n",
      "\n",
      "           0       0.95      0.97      0.96       972\n",
      "           1       0.13      0.10      0.11        50\n",
      "\n",
      "    accuracy                           0.92      1022\n",
      "   macro avg       0.54      0.53      0.54      1022\n",
      "weighted avg       0.91      0.92      0.92      1022\n",
      "\n",
      "----- Confusion matrix -----\n",
      "[[938  34]\n",
      " [ 45   5]]\n",
      "* * * * * * * * * * * * * * * * * * * This results are for SVC * * * * * * * * * * * * * * * * * * *\n",
      "----- Classification report -----\n",
      "              precision    recall  f1-score   support\n",
      "\n",
      "           0       0.99      0.66      0.79       972\n",
      "           1       0.11      0.82      0.19        50\n",
      "\n",
      "    accuracy                           0.67      1022\n",
      "   macro avg       0.55      0.74      0.49      1022\n",
      "weighted avg       0.94      0.67      0.76      1022\n",
      "\n",
      "----- Confusion matrix -----\n",
      "[[641 331]\n",
      " [  9  41]]\n",
      "* * * * * * * * * * * * * * * * * * * This results are for DecisionTreeClassifier * * * * * * * * * * * * * * * * * * *\n",
      "----- Classification report -----\n",
      "              precision    recall  f1-score   support\n",
      "\n",
      "           0       0.96      0.92      0.94       972\n",
      "           1       0.17      0.34      0.23        50\n",
      "\n",
      "    accuracy                           0.89      1022\n",
      "   macro avg       0.57      0.63      0.58      1022\n",
      "weighted avg       0.93      0.89      0.91      1022\n",
      "\n",
      "----- Confusion matrix -----\n",
      "[[891  81]\n",
      " [ 33  17]]\n"
     ]
    }
   ],
   "source": [
    "#final dataframe which will store the performance of the model\n",
    "performance =  pd.DataFrame(columns=['model','params','recall_Yes','recall_No','precision_Yes','precision_No','f1_Yes','f1_No','accuracy'])\n",
    "\n",
    "#get train and test set\n",
    "train_X,train_y,test_X,test_y = transform_and_resample_data(X,y)\n",
    "\n",
    "#call different model fir training and testing\n",
    "for i in range(4):\n",
    "    \n",
    "    model, param, label = model_selection(train_X, train_y, transformer, current=i)\n",
    "    pipeline = Pipeline(steps = [('transform',transformer),\n",
    "                             ('model',model)])\n",
    "    \n",
    "    #score metric \n",
    "    score = {'r':'recall','p':'precision'} \n",
    "    grid = GridSearchCV(pipeline,param,cv=4,scoring=score, refit='r')\n",
    "    \n",
    "    grid.fit(train_X,train_y)\n",
    "    \n",
    "    pred = grid.predict(test_X)\n",
    "    \n",
    "    para = grid.best_estimator_.named_steps['model']\n",
    "    \n",
    "    performance = performance.append(scoring(label, para, test_y, pred),ignore_index=True)\n",
    "\n",
    "    string = 'This results are for '+label\n",
    "    print(19*'* '+string+19*' *')\n",
    "    print('----- Classification report -----')\n",
    "    print(classification_report(test_y,pred))\n",
    "    print('----- Confusion matrix -----')\n",
    "    print(confusion_matrix(test_y,pred))"
   ]
  },
  {
   "cell_type": "code",
   "execution_count": 43,
   "id": "75e00210",
   "metadata": {},
   "outputs": [
    {
     "data": {
      "text/html": [
       "<div>\n",
       "<style scoped>\n",
       "    .dataframe tbody tr th:only-of-type {\n",
       "        vertical-align: middle;\n",
       "    }\n",
       "\n",
       "    .dataframe tbody tr th {\n",
       "        vertical-align: top;\n",
       "    }\n",
       "\n",
       "    .dataframe thead th {\n",
       "        text-align: right;\n",
       "    }\n",
       "</style>\n",
       "<table border=\"1\" class=\"dataframe\">\n",
       "  <thead>\n",
       "    <tr style=\"text-align: right;\">\n",
       "      <th></th>\n",
       "      <th>model</th>\n",
       "      <th>params</th>\n",
       "      <th>recall_Yes</th>\n",
       "      <th>recall_No</th>\n",
       "      <th>precision_Yes</th>\n",
       "      <th>precision_No</th>\n",
       "      <th>f1_Yes</th>\n",
       "      <th>f1_No</th>\n",
       "      <th>accuracy</th>\n",
       "    </tr>\n",
       "  </thead>\n",
       "  <tbody>\n",
       "    <tr>\n",
       "      <th>0</th>\n",
       "      <td>Logistic Regression</td>\n",
       "      <td>LogisticRegression(C=0.001, solver='liblinear')</td>\n",
       "      <td>0.76</td>\n",
       "      <td>0.668724</td>\n",
       "      <td>0.105556</td>\n",
       "      <td>0.981873</td>\n",
       "      <td>0.185366</td>\n",
       "      <td>0.795594</td>\n",
       "      <td>0.673190</td>\n",
       "    </tr>\n",
       "    <tr>\n",
       "      <th>1</th>\n",
       "      <td>KNeighborsClassifier</td>\n",
       "      <td>KNeighborsClassifier(n_neighbors=2, weights='d...</td>\n",
       "      <td>0.10</td>\n",
       "      <td>0.965021</td>\n",
       "      <td>0.128205</td>\n",
       "      <td>0.954222</td>\n",
       "      <td>0.112360</td>\n",
       "      <td>0.959591</td>\n",
       "      <td>0.922701</td>\n",
       "    </tr>\n",
       "    <tr>\n",
       "      <th>2</th>\n",
       "      <td>SVC</td>\n",
       "      <td>SVC(C=0.01)</td>\n",
       "      <td>0.82</td>\n",
       "      <td>0.659465</td>\n",
       "      <td>0.110215</td>\n",
       "      <td>0.986154</td>\n",
       "      <td>0.194313</td>\n",
       "      <td>0.790382</td>\n",
       "      <td>0.667319</td>\n",
       "    </tr>\n",
       "    <tr>\n",
       "      <th>3</th>\n",
       "      <td>DecisionTreeClassifier</td>\n",
       "      <td>DecisionTreeClassifier(criterion='entropy', ma...</td>\n",
       "      <td>0.34</td>\n",
       "      <td>0.916667</td>\n",
       "      <td>0.173469</td>\n",
       "      <td>0.964286</td>\n",
       "      <td>0.229730</td>\n",
       "      <td>0.939873</td>\n",
       "      <td>0.888454</td>\n",
       "    </tr>\n",
       "  </tbody>\n",
       "</table>\n",
       "</div>"
      ],
      "text/plain": [
       "                    model                                             params  \\\n",
       "0     Logistic Regression    LogisticRegression(C=0.001, solver='liblinear')   \n",
       "1    KNeighborsClassifier  KNeighborsClassifier(n_neighbors=2, weights='d...   \n",
       "2                     SVC                                        SVC(C=0.01)   \n",
       "3  DecisionTreeClassifier  DecisionTreeClassifier(criterion='entropy', ma...   \n",
       "\n",
       "   recall_Yes  recall_No  precision_Yes  precision_No    f1_Yes     f1_No  \\\n",
       "0        0.76   0.668724       0.105556      0.981873  0.185366  0.795594   \n",
       "1        0.10   0.965021       0.128205      0.954222  0.112360  0.959591   \n",
       "2        0.82   0.659465       0.110215      0.986154  0.194313  0.790382   \n",
       "3        0.34   0.916667       0.173469      0.964286  0.229730  0.939873   \n",
       "\n",
       "   accuracy  \n",
       "0  0.673190  \n",
       "1  0.922701  \n",
       "2  0.667319  \n",
       "3  0.888454  "
      ]
     },
     "execution_count": 43,
     "metadata": {},
     "output_type": "execute_result"
    }
   ],
   "source": [
    "performance"
   ]
  },
  {
   "cell_type": "markdown",
   "id": "49beb998",
   "metadata": {},
   "source": [
    "observing recall, precision and accuracy of SVC is higher than everyone else.\n",
    "\n",
    "while KNeighborsClassifier perform the worst."
   ]
  },
  {
   "cell_type": "markdown",
   "id": "e392e49b",
   "metadata": {},
   "source": [
    "### Voting classifier"
   ]
  },
  {
   "cell_type": "code",
   "execution_count": 44,
   "id": "cf8f6377",
   "metadata": {},
   "outputs": [],
   "source": [
    "#getting our model we want to use fr voting\n",
    "v_1,v_2,v_3,v_4 = performance['params'].values"
   ]
  },
  {
   "cell_type": "code",
   "execution_count": 45,
   "id": "21eedba9",
   "metadata": {},
   "outputs": [],
   "source": [
    "#models for voting\n",
    "estimators = [('lr',v_1),('svc',v_3),('dt',v_4)]"
   ]
  },
  {
   "cell_type": "code",
   "execution_count": 46,
   "id": "5290eaf2",
   "metadata": {},
   "outputs": [],
   "source": [
    "#voting model\n",
    "vote = VotingClassifier(estimators,voting='hard')\n",
    "pipeline = Pipeline(steps = [('transform',transformer),\n",
    "                             ('model',vote)])\n"
   ]
  },
  {
   "cell_type": "code",
   "execution_count": 47,
   "id": "c063a54b",
   "metadata": {},
   "outputs": [
    {
     "data": {
      "text/plain": [
       "Pipeline(steps=[('transform',\n",
       "                 ColumnTransformer(transformers=[('numerical', MinMaxScaler(),\n",
       "                                                  Index(['age', 'avg_glucose_level', 'bmi'], dtype='object')),\n",
       "                                                 ('onehot',\n",
       "                                                  OneHotEncoder(handle_unknown='ignore'),\n",
       "                                                  ['hypertension',\n",
       "                                                   'heart_disease',\n",
       "                                                   'ever_married',\n",
       "                                                   'Residence_type'])])),\n",
       "                ('model',\n",
       "                 VotingClassifier(estimators=[('lr',\n",
       "                                               LogisticRegression(C=0.001,\n",
       "                                                                  solver='liblinear')),\n",
       "                                              ('svc', SVC(C=0.01)),\n",
       "                                              ('dt',\n",
       "                                               DecisionTreeClassifier(criterion='entropy',\n",
       "                                                                      max_depth=15,\n",
       "                                                                      max_features=10,\n",
       "                                                                      random_state=42))]))])"
      ]
     },
     "execution_count": 47,
     "metadata": {},
     "output_type": "execute_result"
    }
   ],
   "source": [
    "#fit the model\n",
    "pipeline.fit(train_X,train_y)"
   ]
  },
  {
   "cell_type": "code",
   "execution_count": 48,
   "id": "73103e52",
   "metadata": {},
   "outputs": [],
   "source": [
    "#prediction made my the pipeline\n",
    "pred=pipeline.predict(test_X)"
   ]
  },
  {
   "cell_type": "code",
   "execution_count": 49,
   "id": "2474256b",
   "metadata": {},
   "outputs": [
    {
     "name": "stdout",
     "output_type": "stream",
     "text": [
      "              precision    recall  f1-score   support\n",
      "\n",
      "           0       0.98      0.71      0.82       972\n",
      "           1       0.12      0.78      0.21        50\n",
      "\n",
      "    accuracy                           0.71      1022\n",
      "   macro avg       0.55      0.74      0.52      1022\n",
      "weighted avg       0.94      0.71      0.79      1022\n",
      "\n"
     ]
    }
   ],
   "source": [
    "#classification report \n",
    "print(classification_report(test_y,pred))"
   ]
  },
  {
   "cell_type": "code",
   "execution_count": 50,
   "id": "0abc62d0",
   "metadata": {},
   "outputs": [
    {
     "name": "stderr",
     "output_type": "stream",
     "text": [
      "C:\\Users\\Nitesh\\anaconda3\\lib\\site-packages\\sklearn\\utils\\deprecation.py:87: FutureWarning: Function plot_confusion_matrix is deprecated; Function `plot_confusion_matrix` is deprecated in 1.0 and will be removed in 1.2. Use one of the class methods: ConfusionMatrixDisplay.from_predictions or ConfusionMatrixDisplay.from_estimator.\n",
      "  warnings.warn(msg, category=FutureWarning)\n"
     ]
    },
    {
     "data": {
      "text/plain": [
       "<sklearn.metrics._plot.confusion_matrix.ConfusionMatrixDisplay at 0x20fdb7d5ee0>"
      ]
     },
     "execution_count": 50,
     "metadata": {},
     "output_type": "execute_result"
    },
    {
     "data": {
      "image/png": "[encoded data removed]",
      "text/plain": [
       "<Figure size 432x288 with 2 Axes>"
      ]
     },
     "metadata": {
      "needs_background": "light"
     },
     "output_type": "display_data"
    }
   ],
   "source": [
    "#plot the confusion matrix\n",
    "plot_confusion_matrix(pipeline,test_X,test_y)"
   ]
  },
  {
   "cell_type": "markdown",
   "id": "39cba7fa",
   "metadata": {},
   "source": [
    "we can see from voting the recall precision and accuray is actualy increased by fine margin."
   ]
  }
 ],
 "metadata": {
  "kernelspec": {
   "display_name": "Python 3 (ipykernel)",
   "language": "python",
   "name": "python3"
  },
  "language_info": {
   "codemirror_mode": {
    "name": "ipython",
    "version": 3
   },
   "file_extension": ".py",
   "mimetype": "text/x-python",
   "name": "python",
   "nbconvert_exporter": "python",
   "pygments_lexer": "ipython3",
   "version": "3.9.7"
  }
 },
 "nbformat": 4,
 "nbformat_minor": 5
}
